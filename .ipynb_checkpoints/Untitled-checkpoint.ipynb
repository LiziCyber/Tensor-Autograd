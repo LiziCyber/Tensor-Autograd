{
 "cells": [
  {
   "cell_type": "code",
   "execution_count": 1,
   "id": "d6602550-3abd-42c7-ac38-099c0d822b71",
   "metadata": {},
   "outputs": [],
   "source": [
    "import numpy as np"
   ]
  },
  {
   "cell_type": "code",
   "execution_count": 15,
   "id": "2d493c61-9f4c-4674-b644-7c56b2a4a7ac",
   "metadata": {},
   "outputs": [],
   "source": [
    "temp = np.zeros([10,5,2])"
   ]
  },
  {
   "cell_type": "markdown",
   "id": "b6fc4745-0dfb-40ae-a4b9-98b19b8a74e7",
   "metadata": {},
   "source": [
    "np.sum"
   ]
  },
  {
   "cell_type": "code",
   "execution_count": null,
   "id": "cc85e836-bd7c-4df3-b327-aa019a961425",
   "metadata": {},
   "outputs": [
    {
     "data": {
      "text/plain": [
       "array([[0., 0.],\n",
       "       [0., 0.],\n",
       "       [0., 0.],\n",
       "       [0., 0.],\n",
       "       [0., 0.]])"
      ]
     },
     "execution_count": 16,
     "metadata": {},
     "output_type": "execute_result"
    }
   ],
   "source": [
    "np.sum(temp, axis = (0))"
   ]
  },
  {
   "cell_type": "code",
   "execution_count": null,
   "id": "33e75143-26b3-4907-b87a-ff99f86327c4",
   "metadata": {},
   "outputs": [],
   "source": []
  }
 ],
 "metadata": {
  "kernelspec": {
   "display_name": "Python 3 (ipykernel)",
   "language": "python",
   "name": "python3"
  },
  "language_info": {
   "codemirror_mode": {
    "name": "ipython",
    "version": 3
   },
   "file_extension": ".py",
   "mimetype": "text/x-python",
   "name": "python",
   "nbconvert_exporter": "python",
   "pygments_lexer": "ipython3",
   "version": "3.9.7"
  }
 },
 "nbformat": 4,
 "nbformat_minor": 5
}
